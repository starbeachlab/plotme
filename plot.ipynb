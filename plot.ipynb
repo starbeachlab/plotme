{
 "cells": [
  {
   "cell_type": "code",
   "execution_count": null,
   "id": "888b798f",
   "metadata": {},
   "outputs": [],
   "source": [
    "%matplotlib inline"
   ]
  },
  {
   "cell_type": "code",
   "execution_count": null,
   "id": "49904ae0",
   "metadata": {},
   "outputs": [],
   "source": []
  },
  {
   "cell_type": "markdown",
   "id": "b59c38f5",
   "metadata": {
    "cell_marker": "#######################################"
   },
   "source": [
    "##  COPYRIGHT: RENE STARITZBICHLER  ##\n",
    "##             02.02.2020           ##\n",
    "######################################"
   ]
  },
  {
   "cell_type": "code",
   "execution_count": null,
   "id": "72a5ffff",
   "metadata": {},
   "outputs": [],
   "source": [
    "\n",
    "import matplotlib.pyplot as plt\n",
    "import read\n",
    "import os\n",
    "\n",
    "filters, arguments = read.filters_from_arguments( [ '00000216_raw.txt'] )\n",
    "print(arguments)\n",
    "print(filters)\n",
    "\n",
    "fname = \"\"\n",
    "for d in arguments[0].split( '\\\\')[:-1]:\n",
    "    fname = os.path.join(fname , d)\n",
    "for f,a in zip( filters, arguments):\n",
    "    fname += os.path.split(a)[1][:-4] + '_'  ### WINDOWS !!!!\n",
    "    if len(f) > 0:\n",
    "        for c in f:\n",
    "            fname += c + '_'\n",
    "fname = fname[:-1] + '.png'\n",
    "\n",
    "xdata, spectra, info = read.spectra( arguments, filters )\n",
    "    \n",
    "show_labels = True\n",
    "\n",
    "def Short( descr):\n",
    "    # modify to individual uses !\n",
    "    if show_labels == False:\n",
    "        return \"\"\n",
    "    else:\n",
    "        return descr.split('|')[1]\n",
    "\n",
    "\n",
    "print( 'sizes:', len(xdata), len(spectra), len(info))\n",
    "\n",
    "\n",
    "\n",
    "for x,y,n in zip( xdata, spectra, info):\n",
    "    if n != None:\n",
    "        plt.plot( x, y, label = Short( n[1:-1]), linewidth=0.5)\n",
    "    else:\n",
    "        plt.plot( x, y, linewidth=0.5)\n",
    "    \n",
    "axes = plt.gca()\n",
    "\n",
    "# comment this out when you don't want legend (e.g. when plotting a larger group of spectra)\n",
    "#plt.legend()\n",
    "\n",
    "# set to 'False' if you don't want to use this!\n",
    "if False:\n",
    "    axes.set_xlim([xmin,xmax])\n",
    "    print ( \"x limits: \" + str(xmin) + \" \" + str(xmax))\n",
    "if False:\n",
    "    axes.set_ylim([ymin,ymax])\n",
    "    print ( \"y limits: \" + str(ymin) + \" \" + str(ymax))\n",
    "\n",
    "\n",
    "# set to 'False' if you don't want to create .png\n",
    "if True:\n",
    "    print(\"safe as: \" + fname)\n",
    "    plt.savefig(fname)\n",
    "\n",
    "# comment this out when you don't want extra window with plots to pop up (e.g. when iterating through many groups)\n",
    "plt.show()"
   ]
  }
 ],
 "metadata": {
  "jupytext": {
   "cell_metadata_filter": "-all",
   "executable": "/usr/bin/python3",
   "main_language": "python",
   "notebook_metadata_filter": "-all"
  }
 },
 "nbformat": 4,
 "nbformat_minor": 5
}
